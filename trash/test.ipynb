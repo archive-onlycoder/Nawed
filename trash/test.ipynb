{
 "cells": [
  {
   "cell_type": "code",
   "execution_count": 9,
   "metadata": {},
   "outputs": [
    {
     "ename": "Forbidden",
     "evalue": "403 POST https://storage.googleapis.com/upload/storage/v1/b/screenshotuploader/o?uploadType=multipart: {\n  \"error\": {\n    \"code\": 403,\n    \"message\": \"The billing account for the owning project is disabled in state closed\",\n    \"errors\": [\n      {\n        \"message\": \"The billing account for the owning project is disabled in state closed\",\n        \"domain\": \"global\",\n        \"reason\": \"accountDisabled\",\n        \"locationType\": \"header\",\n        \"location\": \"Authorization\"\n      }\n    ]\n  }\n}\n: ('Request failed with status code', 403, 'Expected one of', <HTTPStatus.OK: 200>)",
     "output_type": "error",
     "traceback": [
      "\u001b[1;31m---------------------------------------------------------------------------\u001b[0m",
      "\u001b[1;31mInvalidResponse\u001b[0m                           Traceback (most recent call last)",
      "File \u001b[1;32mc:\\Users\\joy\\AppData\\Local\\Programs\\Python\\Python311\\Lib\\site-packages\\google\\cloud\\storage\\blob.py:2540\u001b[0m, in \u001b[0;36mBlob.upload_from_file\u001b[1;34m(self, file_obj, rewind, size, content_type, num_retries, client, predefined_acl, if_generation_match, if_generation_not_match, if_metageneration_match, if_metageneration_not_match, timeout, checksum, retry)\u001b[0m\n\u001b[0;32m   2539\u001b[0m \u001b[39mtry\u001b[39;00m:\n\u001b[1;32m-> 2540\u001b[0m     created_json \u001b[39m=\u001b[39m \u001b[39mself\u001b[39;49m\u001b[39m.\u001b[39;49m_do_upload(\n\u001b[0;32m   2541\u001b[0m         client,\n\u001b[0;32m   2542\u001b[0m         file_obj,\n\u001b[0;32m   2543\u001b[0m         content_type,\n\u001b[0;32m   2544\u001b[0m         size,\n\u001b[0;32m   2545\u001b[0m         num_retries,\n\u001b[0;32m   2546\u001b[0m         predefined_acl,\n\u001b[0;32m   2547\u001b[0m         if_generation_match,\n\u001b[0;32m   2548\u001b[0m         if_generation_not_match,\n\u001b[0;32m   2549\u001b[0m         if_metageneration_match,\n\u001b[0;32m   2550\u001b[0m         if_metageneration_not_match,\n\u001b[0;32m   2551\u001b[0m         timeout\u001b[39m=\u001b[39;49mtimeout,\n\u001b[0;32m   2552\u001b[0m         checksum\u001b[39m=\u001b[39;49mchecksum,\n\u001b[0;32m   2553\u001b[0m         retry\u001b[39m=\u001b[39;49mretry,\n\u001b[0;32m   2554\u001b[0m     )\n\u001b[0;32m   2555\u001b[0m     \u001b[39mself\u001b[39m\u001b[39m.\u001b[39m_set_properties(created_json)\n",
      "File \u001b[1;32mc:\\Users\\joy\\AppData\\Local\\Programs\\Python\\Python311\\Lib\\site-packages\\google\\cloud\\storage\\blob.py:2355\u001b[0m, in \u001b[0;36mBlob._do_upload\u001b[1;34m(self, client, stream, content_type, size, num_retries, predefined_acl, if_generation_match, if_generation_not_match, if_metageneration_match, if_metageneration_not_match, timeout, checksum, retry)\u001b[0m\n\u001b[0;32m   2354\u001b[0m \u001b[39mif\u001b[39;00m size \u001b[39mis\u001b[39;00m \u001b[39mnot\u001b[39;00m \u001b[39mNone\u001b[39;00m \u001b[39mand\u001b[39;00m size \u001b[39m<\u001b[39m\u001b[39m=\u001b[39m _MAX_MULTIPART_SIZE:\n\u001b[1;32m-> 2355\u001b[0m     response \u001b[39m=\u001b[39m \u001b[39mself\u001b[39;49m\u001b[39m.\u001b[39;49m_do_multipart_upload(\n\u001b[0;32m   2356\u001b[0m         client,\n\u001b[0;32m   2357\u001b[0m         stream,\n\u001b[0;32m   2358\u001b[0m         content_type,\n\u001b[0;32m   2359\u001b[0m         size,\n\u001b[0;32m   2360\u001b[0m         num_retries,\n\u001b[0;32m   2361\u001b[0m         predefined_acl,\n\u001b[0;32m   2362\u001b[0m         if_generation_match,\n\u001b[0;32m   2363\u001b[0m         if_generation_not_match,\n\u001b[0;32m   2364\u001b[0m         if_metageneration_match,\n\u001b[0;32m   2365\u001b[0m         if_metageneration_not_match,\n\u001b[0;32m   2366\u001b[0m         timeout\u001b[39m=\u001b[39;49mtimeout,\n\u001b[0;32m   2367\u001b[0m         checksum\u001b[39m=\u001b[39;49mchecksum,\n\u001b[0;32m   2368\u001b[0m         retry\u001b[39m=\u001b[39;49mretry,\n\u001b[0;32m   2369\u001b[0m     )\n\u001b[0;32m   2370\u001b[0m \u001b[39melse\u001b[39;00m:\n",
      "File \u001b[1;32mc:\\Users\\joy\\AppData\\Local\\Programs\\Python\\Python311\\Lib\\site-packages\\google\\cloud\\storage\\blob.py:1890\u001b[0m, in \u001b[0;36mBlob._do_multipart_upload\u001b[1;34m(self, client, stream, content_type, size, num_retries, predefined_acl, if_generation_match, if_generation_not_match, if_metageneration_match, if_metageneration_not_match, timeout, checksum, retry)\u001b[0m\n\u001b[0;32m   1886\u001b[0m upload\u001b[39m.\u001b[39m_retry_strategy \u001b[39m=\u001b[39m _api_core_retry_to_resumable_media_retry(\n\u001b[0;32m   1887\u001b[0m     retry, num_retries\n\u001b[0;32m   1888\u001b[0m )\n\u001b[1;32m-> 1890\u001b[0m response \u001b[39m=\u001b[39m upload\u001b[39m.\u001b[39;49mtransmit(\n\u001b[0;32m   1891\u001b[0m     transport, data, object_metadata, content_type, timeout\u001b[39m=\u001b[39;49mtimeout\n\u001b[0;32m   1892\u001b[0m )\n\u001b[0;32m   1894\u001b[0m \u001b[39mreturn\u001b[39;00m response\n",
      "File \u001b[1;32mc:\\Users\\joy\\AppData\\Local\\Programs\\Python\\Python311\\Lib\\site-packages\\google\\resumable_media\\requests\\upload.py:153\u001b[0m, in \u001b[0;36mMultipartUpload.transmit\u001b[1;34m(self, transport, data, metadata, content_type, timeout)\u001b[0m\n\u001b[0;32m    151\u001b[0m     \u001b[39mreturn\u001b[39;00m result\n\u001b[1;32m--> 153\u001b[0m \u001b[39mreturn\u001b[39;00m _request_helpers\u001b[39m.\u001b[39;49mwait_and_retry(\n\u001b[0;32m    154\u001b[0m     retriable_request, \u001b[39mself\u001b[39;49m\u001b[39m.\u001b[39;49m_get_status_code, \u001b[39mself\u001b[39;49m\u001b[39m.\u001b[39;49m_retry_strategy\n\u001b[0;32m    155\u001b[0m )\n",
      "File \u001b[1;32mc:\\Users\\joy\\AppData\\Local\\Programs\\Python\\Python311\\Lib\\site-packages\\google\\resumable_media\\requests\\_request_helpers.py:155\u001b[0m, in \u001b[0;36mwait_and_retry\u001b[1;34m(func, get_status_code, retry_strategy)\u001b[0m\n\u001b[0;32m    154\u001b[0m \u001b[39mtry\u001b[39;00m:\n\u001b[1;32m--> 155\u001b[0m     response \u001b[39m=\u001b[39m func()\n\u001b[0;32m    156\u001b[0m \u001b[39mexcept\u001b[39;00m _CONNECTION_ERROR_CLASSES \u001b[39mas\u001b[39;00m e:\n",
      "File \u001b[1;32mc:\\Users\\joy\\AppData\\Local\\Programs\\Python\\Python311\\Lib\\site-packages\\google\\resumable_media\\requests\\upload.py:149\u001b[0m, in \u001b[0;36mMultipartUpload.transmit.<locals>.retriable_request\u001b[1;34m()\u001b[0m\n\u001b[0;32m    145\u001b[0m result \u001b[39m=\u001b[39m transport\u001b[39m.\u001b[39mrequest(\n\u001b[0;32m    146\u001b[0m     method, url, data\u001b[39m=\u001b[39mpayload, headers\u001b[39m=\u001b[39mheaders, timeout\u001b[39m=\u001b[39mtimeout\n\u001b[0;32m    147\u001b[0m )\n\u001b[1;32m--> 149\u001b[0m \u001b[39mself\u001b[39;49m\u001b[39m.\u001b[39;49m_process_response(result)\n\u001b[0;32m    151\u001b[0m \u001b[39mreturn\u001b[39;00m result\n",
      "File \u001b[1;32mc:\\Users\\joy\\AppData\\Local\\Programs\\Python\\Python311\\Lib\\site-packages\\google\\resumable_media\\_upload.py:114\u001b[0m, in \u001b[0;36mUploadBase._process_response\u001b[1;34m(self, response)\u001b[0m\n\u001b[0;32m    113\u001b[0m \u001b[39mself\u001b[39m\u001b[39m.\u001b[39m_finished \u001b[39m=\u001b[39m \u001b[39mTrue\u001b[39;00m\n\u001b[1;32m--> 114\u001b[0m _helpers\u001b[39m.\u001b[39;49mrequire_status_code(response, (http\u001b[39m.\u001b[39;49mclient\u001b[39m.\u001b[39;49mOK,), \u001b[39mself\u001b[39;49m\u001b[39m.\u001b[39;49m_get_status_code)\n",
      "File \u001b[1;32mc:\\Users\\joy\\AppData\\Local\\Programs\\Python\\Python311\\Lib\\site-packages\\google\\resumable_media\\_helpers.py:108\u001b[0m, in \u001b[0;36mrequire_status_code\u001b[1;34m(response, status_codes, get_status_code, callback)\u001b[0m\n\u001b[0;32m    107\u001b[0m         callback()\n\u001b[1;32m--> 108\u001b[0m     \u001b[39mraise\u001b[39;00m common\u001b[39m.\u001b[39mInvalidResponse(\n\u001b[0;32m    109\u001b[0m         response,\n\u001b[0;32m    110\u001b[0m         \u001b[39m\"\u001b[39m\u001b[39mRequest failed with status code\u001b[39m\u001b[39m\"\u001b[39m,\n\u001b[0;32m    111\u001b[0m         status_code,\n\u001b[0;32m    112\u001b[0m         \u001b[39m\"\u001b[39m\u001b[39mExpected one of\u001b[39m\u001b[39m\"\u001b[39m,\n\u001b[0;32m    113\u001b[0m         \u001b[39m*\u001b[39mstatus_codes\n\u001b[0;32m    114\u001b[0m     )\n\u001b[0;32m    115\u001b[0m \u001b[39mreturn\u001b[39;00m status_code\n",
      "\u001b[1;31mInvalidResponse\u001b[0m: ('Request failed with status code', 403, 'Expected one of', <HTTPStatus.OK: 200>)",
      "\nDuring handling of the above exception, another exception occurred:\n",
      "\u001b[1;31mForbidden\u001b[0m                                 Traceback (most recent call last)",
      "Cell \u001b[1;32mIn[9], line 28\u001b[0m\n\u001b[0;32m     25\u001b[0m \u001b[39mwith\u001b[39;00m io\u001b[39m.\u001b[39mBytesIO() \u001b[39mas\u001b[39;00m buffer:\n\u001b[0;32m     26\u001b[0m     image\u001b[39m.\u001b[39msave(buffer, \u001b[39mformat\u001b[39m\u001b[39m=\u001b[39m\u001b[39m\"\u001b[39m\u001b[39mPNG\u001b[39m\u001b[39m\"\u001b[39m)\n\u001b[1;32m---> 28\u001b[0m     \u001b[39mprint\u001b[39m(_upload_to_gcs(GCS_S3_BUCKET_NAME, \u001b[39m'\u001b[39;49m\u001b[39mwww.accessjusticebrooklyn.org.png\u001b[39;49m\u001b[39m'\u001b[39;49m, buffer\u001b[39m.\u001b[39;49mgetvalue()))\n",
      "Cell \u001b[1;32mIn[9], line 19\u001b[0m, in \u001b[0;36m_upload_to_gcs\u001b[1;34m(bucket_name, file_name, buffer)\u001b[0m\n\u001b[0;32m     17\u001b[0m bucket \u001b[39m=\u001b[39m client\u001b[39m.\u001b[39mget_bucket(bucket_name)\n\u001b[0;32m     18\u001b[0m blob \u001b[39m=\u001b[39m bucket\u001b[39m.\u001b[39mblob(file_name)\n\u001b[1;32m---> 19\u001b[0m blob\u001b[39m.\u001b[39;49mupload_from_string(buffer)\n\u001b[0;32m     21\u001b[0m \u001b[39mreturn\u001b[39;00m _get_gcs_public_url(bucket_name, file_name)\n",
      "File \u001b[1;32mc:\\Users\\joy\\AppData\\Local\\Programs\\Python\\Python311\\Lib\\site-packages\\google\\cloud\\storage\\blob.py:2815\u001b[0m, in \u001b[0;36mBlob.upload_from_string\u001b[1;34m(self, data, content_type, num_retries, client, predefined_acl, if_generation_match, if_generation_not_match, if_metageneration_match, if_metageneration_not_match, timeout, checksum, retry)\u001b[0m\n\u001b[0;32m   2813\u001b[0m data \u001b[39m=\u001b[39m _to_bytes(data, encoding\u001b[39m=\u001b[39m\u001b[39m\"\u001b[39m\u001b[39mutf-8\u001b[39m\u001b[39m\"\u001b[39m)\n\u001b[0;32m   2814\u001b[0m string_buffer \u001b[39m=\u001b[39m BytesIO(data)\n\u001b[1;32m-> 2815\u001b[0m \u001b[39mself\u001b[39;49m\u001b[39m.\u001b[39;49mupload_from_file(\n\u001b[0;32m   2816\u001b[0m     file_obj\u001b[39m=\u001b[39;49mstring_buffer,\n\u001b[0;32m   2817\u001b[0m     size\u001b[39m=\u001b[39;49m\u001b[39mlen\u001b[39;49m(data),\n\u001b[0;32m   2818\u001b[0m     content_type\u001b[39m=\u001b[39;49mcontent_type,\n\u001b[0;32m   2819\u001b[0m     num_retries\u001b[39m=\u001b[39;49mnum_retries,\n\u001b[0;32m   2820\u001b[0m     client\u001b[39m=\u001b[39;49mclient,\n\u001b[0;32m   2821\u001b[0m     predefined_acl\u001b[39m=\u001b[39;49mpredefined_acl,\n\u001b[0;32m   2822\u001b[0m     if_generation_match\u001b[39m=\u001b[39;49mif_generation_match,\n\u001b[0;32m   2823\u001b[0m     if_generation_not_match\u001b[39m=\u001b[39;49mif_generation_not_match,\n\u001b[0;32m   2824\u001b[0m     if_metageneration_match\u001b[39m=\u001b[39;49mif_metageneration_match,\n\u001b[0;32m   2825\u001b[0m     if_metageneration_not_match\u001b[39m=\u001b[39;49mif_metageneration_not_match,\n\u001b[0;32m   2826\u001b[0m     timeout\u001b[39m=\u001b[39;49mtimeout,\n\u001b[0;32m   2827\u001b[0m     checksum\u001b[39m=\u001b[39;49mchecksum,\n\u001b[0;32m   2828\u001b[0m     retry\u001b[39m=\u001b[39;49mretry,\n\u001b[0;32m   2829\u001b[0m )\n",
      "File \u001b[1;32mc:\\Users\\joy\\AppData\\Local\\Programs\\Python\\Python311\\Lib\\site-packages\\google\\cloud\\storage\\blob.py:2557\u001b[0m, in \u001b[0;36mBlob.upload_from_file\u001b[1;34m(self, file_obj, rewind, size, content_type, num_retries, client, predefined_acl, if_generation_match, if_generation_not_match, if_metageneration_match, if_metageneration_not_match, timeout, checksum, retry)\u001b[0m\n\u001b[0;32m   2555\u001b[0m     \u001b[39mself\u001b[39m\u001b[39m.\u001b[39m_set_properties(created_json)\n\u001b[0;32m   2556\u001b[0m \u001b[39mexcept\u001b[39;00m resumable_media\u001b[39m.\u001b[39mInvalidResponse \u001b[39mas\u001b[39;00m exc:\n\u001b[1;32m-> 2557\u001b[0m     _raise_from_invalid_response(exc)\n",
      "File \u001b[1;32mc:\\Users\\joy\\AppData\\Local\\Programs\\Python\\Python311\\Lib\\site-packages\\google\\cloud\\storage\\blob.py:4373\u001b[0m, in \u001b[0;36m_raise_from_invalid_response\u001b[1;34m(error)\u001b[0m\n\u001b[0;32m   4369\u001b[0m     error_message \u001b[39m=\u001b[39m \u001b[39mstr\u001b[39m(error)\n\u001b[0;32m   4371\u001b[0m message \u001b[39m=\u001b[39m \u001b[39mf\u001b[39m\u001b[39m\"\u001b[39m\u001b[39m{\u001b[39;00mresponse\u001b[39m.\u001b[39mrequest\u001b[39m.\u001b[39mmethod\u001b[39m}\u001b[39;00m\u001b[39m \u001b[39m\u001b[39m{\u001b[39;00mresponse\u001b[39m.\u001b[39mrequest\u001b[39m.\u001b[39murl\u001b[39m}\u001b[39;00m\u001b[39m: \u001b[39m\u001b[39m{\u001b[39;00merror_message\u001b[39m}\u001b[39;00m\u001b[39m\"\u001b[39m\n\u001b[1;32m-> 4373\u001b[0m \u001b[39mraise\u001b[39;00m exceptions\u001b[39m.\u001b[39mfrom_http_status(response\u001b[39m.\u001b[39mstatus_code, message, response\u001b[39m=\u001b[39mresponse)\n",
      "\u001b[1;31mForbidden\u001b[0m: 403 POST https://storage.googleapis.com/upload/storage/v1/b/screenshotuploader/o?uploadType=multipart: {\n  \"error\": {\n    \"code\": 403,\n    \"message\": \"The billing account for the owning project is disabled in state closed\",\n    \"errors\": [\n      {\n        \"message\": \"The billing account for the owning project is disabled in state closed\",\n        \"domain\": \"global\",\n        \"reason\": \"accountDisabled\",\n        \"locationType\": \"header\",\n        \"location\": \"Authorization\"\n      }\n    ]\n  }\n}\n: ('Request failed with status code', 403, 'Expected one of', <HTTPStatus.OK: 200>)"
     ]
    }
   ],
   "source": [
    "from google.cloud import storage\n",
    "from config import (\n",
    "    GCS_S3_BUCKET_NAME,\n",
    "    GCS_CREDENTIALS_PATH\n",
    ")\n",
    "from PIL import Image\n",
    "import io\n",
    "\n",
    "def _get_gcs_public_url(bucket_name: str, object_name: str, secure: bool=True):\n",
    "    scheme = \"https\" if secure else \"http\"\n",
    "    return f\"{scheme}://storage.googleapis.com/{bucket_name}/{object_name}\"\n",
    "\n",
    "\n",
    "\n",
    "def _upload_to_gcs(bucket_name: str, file_name: str, buffer: bytes):\n",
    "    client = storage.Client.from_service_account_json(GCS_CREDENTIALS_PATH)\n",
    "    bucket = client.get_bucket(bucket_name)\n",
    "    blob = bucket.blob(file_name)\n",
    "    blob.upload_from_string(buffer)\n",
    "\n",
    "    return _get_gcs_public_url(bucket_name, file_name)\n",
    "\n",
    "image = Image.open('./screenshots\\www.accessjusticebrooklyn.org.png')\n",
    "\n",
    "with io.BytesIO() as buffer:\n",
    "    image.save(buffer, format=\"PNG\")\n",
    "    \n",
    "    print(_upload_to_gcs(GCS_S3_BUCKET_NAME, 'www.accessjusticebrooklyn.org.png', buffer.getvalue()))"
   ]
  },
  {
   "cell_type": "code",
   "execution_count": null,
   "metadata": {},
   "outputs": [],
   "source": []
  }
 ],
 "metadata": {
  "kernelspec": {
   "display_name": "Python 3",
   "language": "python",
   "name": "python3"
  },
  "language_info": {
   "codemirror_mode": {
    "name": "ipython",
    "version": 3
   },
   "file_extension": ".py",
   "mimetype": "text/x-python",
   "name": "python",
   "nbconvert_exporter": "python",
   "pygments_lexer": "ipython3",
   "version": "3.11.5"
  },
  "orig_nbformat": 4
 },
 "nbformat": 4,
 "nbformat_minor": 2
}
